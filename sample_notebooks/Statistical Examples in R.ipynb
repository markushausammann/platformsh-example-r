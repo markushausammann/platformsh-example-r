{
 "cells": [
  {
    "cell_type": "markdown",
    "metadata": {},
    "source": [
     "# ⚠ WARNING: SAMPLE ONLY ⚠\n",
     "### This notebook (and all notebooks in this repo) will be reset daily!\n"
    ]
  },
  {
   "cell_type": "markdown",
   "metadata": {},
   "source": [
    "### Two-sample z-test for means\n",
    "Use only when the sample size is at least 30 (i.e. n>=30) AND population standard deviation is known (which usually we do not know). Otherwise use the t-test.  "
   ]
  },
  {
   "cell_type": "code",
   "execution_count": 1,
   "metadata": {},
   "outputs": [
    {
     "data": {
      "text/html": [
       "3.52502079892874"
      ],
      "text/latex": [
       "3.52502079892874"
      ],
      "text/markdown": [
       "3.52502079892874"
      ],
      "text/plain": [
       "[1] 3.525021"
      ]
     },
     "metadata": {},
     "output_type": "display_data"
    }
   ],
   "source": [
    "z.test2sam = function(ma, mb, na, nb, var.a, var.b){\n",
    "  zeta = (ma-mb) / (sqrt(var.a/na + var.b/nb))\n",
    "  return(zeta)\n",
    "}\n",
    "\n",
    "ma = 3.77\n",
    "mb = 3.31\n",
    "na = 109\n",
    "nb = 222\n",
    "var.a = 1.015^2\n",
    "var.b = 1.297^2\n",
    "z.test2sam(ma, mb, na, nb, var.a, var.b)  \n",
    "# reject the null hyothesis that the differences in the means of the two samples are statistically signficant \n",
    "# if the value returned is >1.96\n",
    "# i.e. in this case we conclude that there is insufficient evidence that the differences in the two samples are due to chance. "
   ]
  },
  {
   "cell_type": "markdown",
   "metadata": {},
   "source": [
    "### Two-sample t-test for means\n",
    "Use when the sample size is less than 30 OR population standard deviation is unknown."
   ]
  },
  {
   "cell_type": "code",
   "execution_count": 2,
   "metadata": {
    "scrolled": true
   },
   "outputs": [
    {
     "data": {
      "text/html": [
       "<ol class=list-inline>\n",
       "\t<li>15.1547614873946</li>\n",
       "\t<li>5.62241049439202</li>\n",
       "\t<li>11.2642520804819</li>\n",
       "\t<li>-12.3929956584237</li>\n",
       "\t<li>10.0525966850774</li>\n",
       "</ol>\n"
      ],
      "text/latex": [
       "\\begin{enumerate*}\n",
       "\\item 15.1547614873946\n",
       "\\item 5.62241049439202\n",
       "\\item 11.2642520804819\n",
       "\\item -12.3929956584237\n",
       "\\item 10.0525966850774\n",
       "\\end{enumerate*}\n"
      ],
      "text/markdown": [
       "1. 15.1547614873946\n",
       "2. 5.62241049439202\n",
       "3. 11.2642520804819\n",
       "4. -12.3929956584237\n",
       "5. 10.0525966850774\n",
       "\n",
       "\n"
      ],
      "text/plain": [
       "[1]  15.15476   5.62241  11.26425 -12.39300  10.05260"
      ]
     },
     "metadata": {},
     "output_type": "display_data"
    },
    {
     "data": {
      "text/html": [
       "<ol class=list-inline>\n",
       "\t<li>5.52783413194593</li>\n",
       "\t<li>-24.4136391156974</li>\n",
       "\t<li>-7.20137181258978</li>\n",
       "\t<li>2.00896147251015</li>\n",
       "\t<li>5.92212812954137</li>\n",
       "</ol>\n"
      ],
      "text/latex": [
       "\\begin{enumerate*}\n",
       "\\item 5.52783413194593\n",
       "\\item -24.4136391156974\n",
       "\\item -7.20137181258978\n",
       "\\item 2.00896147251015\n",
       "\\item 5.92212812954137\n",
       "\\end{enumerate*}\n"
      ],
      "text/markdown": [
       "1. 5.52783413194593\n",
       "2. -24.4136391156974\n",
       "3. -7.20137181258978\n",
       "4. 2.00896147251015\n",
       "5. 5.92212812954137\n",
       "\n",
       "\n"
      ],
      "text/plain": [
       "[1]   5.527834 -24.413639  -7.201372   2.008961   5.922128"
      ]
     },
     "metadata": {},
     "output_type": "display_data"
    },
    {
     "data": {
      "text/plain": [
       "\n",
       "\tTwo Sample t-test\n",
       "\n",
       "data:  y1 and y2\n",
       "t = 1.3517, df = 18, p-value = 0.1932\n",
       "alternative hypothesis: true difference in means is not equal to 0\n",
       "95 percent confidence interval:\n",
       " -3.871245 17.839575\n",
       "sample estimates:\n",
       "mean of x mean of y \n",
       " 5.278885 -1.705280 \n"
      ]
     },
     "metadata": {},
     "output_type": "display_data"
    }
   ],
   "source": [
    "y1 <- rnorm(10, 3, 10)\n",
    "y2 <- rnorm(10, 4, 12)\n",
    "y1[1:5]\n",
    "y2[1:5]\n",
    "# Assumes the two samples have equal variances\n",
    "t.test(y1, y2, var.equal=TRUE)"
   ]
  },
  {
   "cell_type": "code",
   "execution_count": 3,
   "metadata": {},
   "outputs": [
    {
     "data": {
      "text/plain": [
       "\n",
       "\tWelch Two Sample t-test\n",
       "\n",
       "data:  y1 and y2\n",
       "t = 1.3517, df = 17.84, p-value = 0.1934\n",
       "alternative hypothesis: true difference in means is not equal to 0\n",
       "95 percent confidence interval:\n",
       " -3.878245 17.846576\n",
       "sample estimates:\n",
       "mean of x mean of y \n",
       " 5.278885 -1.705280 \n"
      ]
     },
     "metadata": {},
     "output_type": "display_data"
    }
   ],
   "source": [
    "t.test(y1, y2, var.equal=FALSE)"
   ]
  },
  {
   "cell_type": "markdown",
   "metadata": {},
   "source": [
    "### Paired t-test for means\n",
    "Use when you are comparing two values (eg. measurement before and after treatment) of the same sample"
   ]
  },
  {
   "cell_type": "code",
   "execution_count": 4,
   "metadata": {},
   "outputs": [
    {
     "data": {
      "text/plain": [
       "\n",
       "\tPaired t-test\n",
       "\n",
       "data:  y1 and y2\n",
       "t = 1.1901, df = 99, p-value = 0.2369\n",
       "alternative hypothesis: true difference in means is not equal to 0\n",
       "95 percent confidence interval:\n",
       " -1.054143  4.213567\n",
       "sample estimates:\n",
       "mean of the differences \n",
       "               1.579712 \n"
      ]
     },
     "metadata": {},
     "output_type": "display_data"
    }
   ],
   "source": [
    "y1 <- rnorm(100, 3, 10)\n",
    "y2 <- rnorm(100, 3.5, 10)\n",
    "t.test(y1, y2, paired = TRUE)"
   ]
  },
  {
   "cell_type": "code",
   "execution_count": 5,
   "metadata": {},
   "outputs": [
    {
     "data": {
      "text/html": [
       "-1.57971205029854"
      ],
      "text/latex": [
       "-1.57971205029854"
      ],
      "text/markdown": [
       "-1.57971205029854"
      ],
      "text/plain": [
       "[1] -1.579712"
      ]
     },
     "metadata": {},
     "output_type": "display_data"
    }
   ],
   "source": [
    "mean(y2-y1)"
   ]
  },
  {
   "cell_type": "code",
   "execution_count": 6,
   "metadata": {},
   "outputs": [
    {
     "data": {
      "text/html": [
       "176.199799222637"
      ],
      "text/latex": [
       "176.199799222637"
      ],
      "text/markdown": [
       "176.199799222637"
      ],
      "text/plain": [
       "[1] 176.1998"
      ]
     },
     "metadata": {},
     "output_type": "display_data"
    }
   ],
   "source": [
    "var(y2-y1)"
   ]
  },
  {
   "cell_type": "code",
   "execution_count": 7,
   "metadata": {
    "scrolled": true
   },
   "outputs": [
    {
     "data": {
      "text/html": [
       "-0.0896545885561709"
      ],
      "text/latex": [
       "-0.0896545885561709"
      ],
      "text/markdown": [
       "-0.0896545885561709"
      ],
      "text/plain": [
       "[1] -0.08965459"
      ]
     },
     "metadata": {},
     "output_type": "display_data"
    }
   ],
   "source": [
    "# computing the t-statistic of the sample difference\n",
    "mean = mean(y2-y1)\n",
    "n = 100\n",
    "sed = var(y2-y1)/sqrt(n)\n",
    "t = mean/sed\n",
    "t\n",
    "# t-statistic at 95% confidence interval for n=10 is 2.228\n",
    "# if |t| > 2.228, reject null hypothesis that the differences are statistically significant"
   ]
  },
  {
   "cell_type": "markdown",
   "metadata": {},
   "source": [
    "### Two-sample chi-square test for proportions"
   ]
  },
  {
   "cell_type": "code",
   "execution_count": 8,
   "metadata": {},
   "outputs": [
    {
     "data": {
      "text/html": [
       "<table>\n",
       "<thead><tr><th></th><th scope=col>1</th><th scope=col>2</th></tr></thead>\n",
       "<tbody>\n",
       "\t<tr><th scope=row>Y</th><td>27</td><td>10</td></tr>\n",
       "\t<tr><th scope=row>N</th><td>15</td><td>11</td></tr>\n",
       "</tbody>\n",
       "</table>\n"
      ],
      "text/latex": [
       "\\begin{tabular}{r|ll}\n",
       "  & 1 & 2\\\\\n",
       "\\hline\n",
       "\tY & 27 & 10\\\\\n",
       "\tN & 15 & 11\\\\\n",
       "\\end{tabular}\n"
      ],
      "text/markdown": [
       "\n",
       "| <!--/--> | 1 | 2 | \n",
       "|---|---|\n",
       "| Y | 27 | 10 | \n",
       "| N | 15 | 11 | \n",
       "\n",
       "\n"
      ],
      "text/plain": [
       "      Type\n",
       "status 1  2 \n",
       "     Y 27 10\n",
       "     N 15 11"
      ]
     },
     "metadata": {},
     "output_type": "display_data"
    },
    {
     "data": {
      "text/plain": [
       "\n",
       "\tPearson's Chi-squared test with Yates' continuity correction\n",
       "\n",
       "data:  data\n",
       "X-squared = 0.99051, df = 1, p-value = 0.3196\n"
      ]
     },
     "metadata": {},
     "output_type": "display_data"
    },
    {
     "data": {
      "image/png": "[encoded data removed]",
      "text/plain": [
       "plot without title"
      ]
     },
     "metadata": {},
     "output_type": "display_data"
    }
   ],
   "source": [
    "freqs = c(27,15,10,11)\n",
    "data = matrix(freqs, nrow=2)\n",
    "dimnames(data) = list(\"status\"=c(\"Y\",\"N\"), \"Type\"=c(\"1\",\"2\"))\n",
    "\n",
    "data\n",
    "\n",
    "result <- chisq.test(data)\n",
    "result\n",
    "\n",
    "options(repr.plot.width=4, repr.plot.height=4)\n",
    "toplot<- as.matrix(rbind(data[1,],data[2,] ))\n",
    "barplot(toplot, beside = TRUE, col = c(\"blue\", \"orange\"), las=2)"
   ]
  },
  {
   "cell_type": "code",
   "execution_count": 9,
   "metadata": {
    "scrolled": true
   },
   "outputs": [
    {
     "data": {
      "text/plain": [
       "\n",
       "\t2-sample test for equality of proportions with continuity correction\n",
       "\n",
       "data:  c(27, 10) out of c(27 + 15, 10 + 11)\n",
       "X-squared = 0.99051, df = 1, p-value = 0.3196\n",
       "alternative hypothesis: two.sided\n",
       "95 percent confidence interval:\n",
       " -0.1271700  0.4605034\n",
       "sample estimates:\n",
       "   prop 1    prop 2 \n",
       "0.6428571 0.4761905 \n"
      ]
     },
     "metadata": {},
     "output_type": "display_data"
    }
   ],
   "source": [
    "# alternative function\n",
    "prop.test(x = c(27, 10), n = c(27+15, 10+11))"
   ]
  },
  {
   "cell_type": "markdown",
   "metadata": {},
   "source": [
    "### Three-sample chi-square test for proportions"
   ]
  },
  {
   "cell_type": "code",
   "execution_count": 10,
   "metadata": {},
   "outputs": [
    {
     "data": {
      "text/html": [
       "<table>\n",
       "<thead><tr><th></th><th scope=col>1</th><th scope=col>2</th><th scope=col>3</th></tr></thead>\n",
       "<tbody>\n",
       "\t<tr><th scope=row>Y</th><td>27</td><td>10</td><td>20</td></tr>\n",
       "\t<tr><th scope=row>N</th><td>15</td><td>11</td><td>25</td></tr>\n",
       "</tbody>\n",
       "</table>\n"
      ],
      "text/latex": [
       "\\begin{tabular}{r|lll}\n",
       "  & 1 & 2 & 3\\\\\n",
       "\\hline\n",
       "\tY & 27 & 10 & 20\\\\\n",
       "\tN & 15 & 11 & 25\\\\\n",
       "\\end{tabular}\n"
      ],
      "text/markdown": [
       "\n",
       "| <!--/--> | 1 | 2 | 3 | \n",
       "|---|---|\n",
       "| Y | 27 | 10 | 20 | \n",
       "| N | 15 | 11 | 25 | \n",
       "\n",
       "\n"
      ],
      "text/plain": [
       "      Type\n",
       "status 1  2  3 \n",
       "     Y 27 10 20\n",
       "     N 15 11 25"
      ]
     },
     "metadata": {},
     "output_type": "display_data"
    },
    {
     "data": {
      "text/plain": [
       "\n",
       "\tPearson's Chi-squared test\n",
       "\n",
       "data:  data\n",
       "X-squared = 3.7099, df = 2, p-value = 0.1565\n"
      ]
     },
     "metadata": {},
     "output_type": "display_data"
    }
   ],
   "source": [
    "freqs = c(27,15,10,11,20,25)\n",
    "data = matrix(freqs, nrow=2)\n",
    "dimnames(data) = list(\"status\"=c(\"Y\",\"N\"), \"Type\"=c(\"1\",\"2\",\"3\"))\n",
    "\n",
    "data\n",
    "\n",
    "result <- chisq.test(data)\n",
    "result"
   ]
  },
  {
   "cell_type": "code",
   "execution_count": 11,
   "metadata": {},
   "outputs": [
    {
     "data": {
      "text/plain": [
       "\n",
       "\t3-sample test for equality of proportions without continuity\n",
       "\tcorrection\n",
       "\n",
       "data:  c(27, 10, 20) out of c(27 + 15, 10 + 11, 45)\n",
       "X-squared = 3.7099, df = 2, p-value = 0.1565\n",
       "alternative hypothesis: two.sided\n",
       "sample estimates:\n",
       "   prop 1    prop 2    prop 3 \n",
       "0.6428571 0.4761905 0.4444444 \n"
      ]
     },
     "metadata": {},
     "output_type": "display_data"
    }
   ],
   "source": [
    "prop.test(x = c(27, 10, 20), n = c(27+15, 10+11, 45))"
   ]
  },
  {
   "cell_type": "code",
   "execution_count": 12,
   "metadata": {},
   "outputs": [
    {
     "data": {
      "text/html": [
       "<table>\n",
       "<thead><tr><th></th><th scope=col>mpg</th><th scope=col>cyl</th><th scope=col>disp</th><th scope=col>hp</th><th scope=col>drat</th><th scope=col>wt</th><th scope=col>qsec</th><th scope=col>vs</th><th scope=col>am</th><th scope=col>gear</th><th scope=col>carb</th></tr></thead>\n",
       "<tbody>\n",
       "\t<tr><th scope=row>Mazda RX4</th><td>21.0 </td><td>6    </td><td>160.0</td><td>110  </td><td>3.90 </td><td>2.620</td><td>16.46</td><td>0    </td><td>1    </td><td>4    </td><td>4    </td></tr>\n",
       "\t<tr><th scope=row>Mazda RX4 Wag</th><td>21.0 </td><td>6    </td><td>160.0</td><td>110  </td><td>3.90 </td><td>2.875</td><td>17.02</td><td>0    </td><td>1    </td><td>4    </td><td>4    </td></tr>\n",
       "\t<tr><th scope=row>Datsun 710</th><td>22.8 </td><td>4    </td><td>108.0</td><td> 93  </td><td>3.85 </td><td>2.320</td><td>18.61</td><td>1    </td><td>1    </td><td>4    </td><td>1    </td></tr>\n",
       "\t<tr><th scope=row>Hornet 4 Drive</th><td>21.4 </td><td>6    </td><td>258.0</td><td>110  </td><td>3.08 </td><td>3.215</td><td>19.44</td><td>1    </td><td>0    </td><td>3    </td><td>1    </td></tr>\n",
       "\t<tr><th scope=row>Hornet Sportabout</th><td>18.7 </td><td>8    </td><td>360.0</td><td>175  </td><td>3.15 </td><td>3.440</td><td>17.02</td><td>0    </td><td>0    </td><td>3    </td><td>2    </td></tr>\n",
       "\t<tr><th scope=row>Valiant</th><td>18.1 </td><td>6    </td><td>225.0</td><td>105  </td><td>2.76 </td><td>3.460</td><td>20.22</td><td>1    </td><td>0    </td><td>3    </td><td>1    </td></tr>\n",
       "\t<tr><th scope=row>Duster 360</th><td>14.3 </td><td>8    </td><td>360.0</td><td>245  </td><td>3.21 </td><td>3.570</td><td>15.84</td><td>0    </td><td>0    </td><td>3    </td><td>4    </td></tr>\n",
       "\t<tr><th scope=row>Merc 240D</th><td>24.4 </td><td>4    </td><td>146.7</td><td> 62  </td><td>3.69 </td><td>3.190</td><td>20.00</td><td>1    </td><td>0    </td><td>4    </td><td>2    </td></tr>\n",
       "\t<tr><th scope=row>Merc 230</th><td>22.8 </td><td>4    </td><td>140.8</td><td> 95  </td><td>3.92 </td><td>3.150</td><td>22.90</td><td>1    </td><td>0    </td><td>4    </td><td>2    </td></tr>\n",
       "\t<tr><th scope=row>Merc 280</th><td>19.2 </td><td>6    </td><td>167.6</td><td>123  </td><td>3.92 </td><td>3.440</td><td>18.30</td><td>1    </td><td>0    </td><td>4    </td><td>4    </td></tr>\n",
       "\t<tr><th scope=row>Merc 280C</th><td>17.8 </td><td>6    </td><td>167.6</td><td>123  </td><td>3.92 </td><td>3.440</td><td>18.90</td><td>1    </td><td>0    </td><td>4    </td><td>4    </td></tr>\n",
       "\t<tr><th scope=row>Merc 450SE</th><td>16.4 </td><td>8    </td><td>275.8</td><td>180  </td><td>3.07 </td><td>4.070</td><td>17.40</td><td>0    </td><td>0    </td><td>3    </td><td>3    </td></tr>\n",
       "\t<tr><th scope=row>Merc 450SL</th><td>17.3 </td><td>8    </td><td>275.8</td><td>180  </td><td>3.07 </td><td>3.730</td><td>17.60</td><td>0    </td><td>0    </td><td>3    </td><td>3    </td></tr>\n",
       "\t<tr><th scope=row>Merc 450SLC</th><td>15.2 </td><td>8    </td><td>275.8</td><td>180  </td><td>3.07 </td><td>3.780</td><td>18.00</td><td>0    </td><td>0    </td><td>3    </td><td>3    </td></tr>\n",
       "\t<tr><th scope=row>Cadillac Fleetwood</th><td>10.4 </td><td>8    </td><td>472.0</td><td>205  </td><td>2.93 </td><td>5.250</td><td>17.98</td><td>0    </td><td>0    </td><td>3    </td><td>4    </td></tr>\n",
       "\t<tr><th scope=row>Lincoln Continental</th><td>10.4 </td><td>8    </td><td>460.0</td><td>215  </td><td>3.00 </td><td>5.424</td><td>17.82</td><td>0    </td><td>0    </td><td>3    </td><td>4    </td></tr>\n",
       "\t<tr><th scope=row>Chrysler Imperial</th><td>14.7 </td><td>8    </td><td>440.0</td><td>230  </td><td>3.23 </td><td>5.345</td><td>17.42</td><td>0    </td><td>0    </td><td>3    </td><td>4    </td></tr>\n",
       "\t<tr><th scope=row>Fiat 128</th><td>32.4 </td><td>4    </td><td> 78.7</td><td> 66  </td><td>4.08 </td><td>2.200</td><td>19.47</td><td>1    </td><td>1    </td><td>4    </td><td>1    </td></tr>\n",
       "\t<tr><th scope=row>Honda Civic</th><td>30.4 </td><td>4    </td><td> 75.7</td><td> 52  </td><td>4.93 </td><td>1.615</td><td>18.52</td><td>1    </td><td>1    </td><td>4    </td><td>2    </td></tr>\n",
       "\t<tr><th scope=row>Toyota Corolla</th><td>33.9 </td><td>4    </td><td> 71.1</td><td> 65  </td><td>4.22 </td><td>1.835</td><td>19.90</td><td>1    </td><td>1    </td><td>4    </td><td>1    </td></tr>\n",
       "\t<tr><th scope=row>Toyota Corona</th><td>21.5 </td><td>4    </td><td>120.1</td><td> 97  </td><td>3.70 </td><td>2.465</td><td>20.01</td><td>1    </td><td>0    </td><td>3    </td><td>1    </td></tr>\n",
       "\t<tr><th scope=row>Dodge Challenger</th><td>15.5 </td><td>8    </td><td>318.0</td><td>150  </td><td>2.76 </td><td>3.520</td><td>16.87</td><td>0    </td><td>0    </td><td>3    </td><td>2    </td></tr>\n",
       "\t<tr><th scope=row>AMC Javelin</th><td>15.2 </td><td>8    </td><td>304.0</td><td>150  </td><td>3.15 </td><td>3.435</td><td>17.30</td><td>0    </td><td>0    </td><td>3    </td><td>2    </td></tr>\n",
       "\t<tr><th scope=row>Camaro Z28</th><td>13.3 </td><td>8    </td><td>350.0</td><td>245  </td><td>3.73 </td><td>3.840</td><td>15.41</td><td>0    </td><td>0    </td><td>3    </td><td>4    </td></tr>\n",
       "\t<tr><th scope=row>Pontiac Firebird</th><td>19.2 </td><td>8    </td><td>400.0</td><td>175  </td><td>3.08 </td><td>3.845</td><td>17.05</td><td>0    </td><td>0    </td><td>3    </td><td>2    </td></tr>\n",
       "\t<tr><th scope=row>Fiat X1-9</th><td>27.3 </td><td>4    </td><td> 79.0</td><td> 66  </td><td>4.08 </td><td>1.935</td><td>18.90</td><td>1    </td><td>1    </td><td>4    </td><td>1    </td></tr>\n",
       "\t<tr><th scope=row>Porsche 914-2</th><td>26.0 </td><td>4    </td><td>120.3</td><td> 91  </td><td>4.43 </td><td>2.140</td><td>16.70</td><td>0    </td><td>1    </td><td>5    </td><td>2    </td></tr>\n",
       "\t<tr><th scope=row>Lotus Europa</th><td>30.4 </td><td>4    </td><td> 95.1</td><td>113  </td><td>3.77 </td><td>1.513</td><td>16.90</td><td>1    </td><td>1    </td><td>5    </td><td>2    </td></tr>\n",
       "\t<tr><th scope=row>Ford Pantera L</th><td>15.8 </td><td>8    </td><td>351.0</td><td>264  </td><td>4.22 </td><td>3.170</td><td>14.50</td><td>0    </td><td>1    </td><td>5    </td><td>4    </td></tr>\n",
       "\t<tr><th scope=row>Ferrari Dino</th><td>19.7 </td><td>6    </td><td>145.0</td><td>175  </td><td>3.62 </td><td>2.770</td><td>15.50</td><td>0    </td><td>1    </td><td>5    </td><td>6    </td></tr>\n",
       "\t<tr><th scope=row>Maserati Bora</th><td>15.0 </td><td>8    </td><td>301.0</td><td>335  </td><td>3.54 </td><td>3.570</td><td>14.60</td><td>0    </td><td>1    </td><td>5    </td><td>8    </td></tr>\n",
       "\t<tr><th scope=row>Volvo 142E</th><td>21.4 </td><td>4    </td><td>121.0</td><td>109  </td><td>4.11 </td><td>2.780</td><td>18.60</td><td>1    </td><td>1    </td><td>4    </td><td>2    </td></tr>\n",
       "</tbody>\n",
       "</table>\n"
      ],
      "text/latex": [
       "\\begin{tabular}{r|lllllllllll}\n",
       "  & mpg & cyl & disp & hp & drat & wt & qsec & vs & am & gear & carb\\\\\n",
       "\\hline\n",
       "\tMazda RX4 & 21.0  & 6     & 160.0 & 110   & 3.90  & 2.620 & 16.46 & 0     & 1     & 4     & 4    \\\\\n",
       "\tMazda RX4 Wag & 21.0  & 6     & 160.0 & 110   & 3.90  & 2.875 & 17.02 & 0     & 1     & 4     & 4    \\\\\n",
       "\tDatsun 710 & 22.8  & 4     & 108.0 &  93   & 3.85  & 2.320 & 18.61 & 1     & 1     & 4     & 1    \\\\\n",
       "\tHornet 4 Drive & 21.4  & 6     & 258.0 & 110   & 3.08  & 3.215 & 19.44 & 1     & 0     & 3     & 1    \\\\\n",
       "\tHornet Sportabout & 18.7  & 8     & 360.0 & 175   & 3.15  & 3.440 & 17.02 & 0     & 0     & 3     & 2    \\\\\n",
       "\tValiant & 18.1  & 6     & 225.0 & 105   & 2.76  & 3.460 & 20.22 & 1     & 0     & 3     & 1    \\\\\n",
       "\tDuster 360 & 14.3  & 8     & 360.0 & 245   & 3.21  & 3.570 & 15.84 & 0     & 0     & 3     & 4    \\\\\n",
       "\tMerc 240D & 24.4  & 4     & 146.7 &  62   & 3.69  & 3.190 & 20.00 & 1     & 0     & 4     & 2    \\\\\n",
       "\tMerc 230 & 22.8  & 4     & 140.8 &  95   & 3.92  & 3.150 & 22.90 & 1     & 0     & 4     & 2    \\\\\n",
       "\tMerc 280 & 19.2  & 6     & 167.6 & 123   & 3.92  & 3.440 & 18.30 & 1     & 0     & 4     & 4    \\\\\n",
       "\tMerc 280C & 17.8  & 6     & 167.6 & 123   & 3.92  & 3.440 & 18.90 & 1     & 0     & 4     & 4    \\\\\n",
       "\tMerc 450SE & 16.4  & 8     & 275.8 & 180   & 3.07  & 4.070 & 17.40 & 0     & 0     & 3     & 3    \\\\\n",
       "\tMerc 450SL & 17.3  & 8     & 275.8 & 180   & 3.07  & 3.730 & 17.60 & 0     & 0     & 3     & 3    \\\\\n",
       "\tMerc 450SLC & 15.2  & 8     & 275.8 & 180   & 3.07  & 3.780 & 18.00 & 0     & 0     & 3     & 3    \\\\\n",
       "\tCadillac Fleetwood & 10.4  & 8     & 472.0 & 205   & 2.93  & 5.250 & 17.98 & 0     & 0     & 3     & 4    \\\\\n",
       "\tLincoln Continental & 10.4  & 8     & 460.0 & 215   & 3.00  & 5.424 & 17.82 & 0     & 0     & 3     & 4    \\\\\n",
       "\tChrysler Imperial & 14.7  & 8     & 440.0 & 230   & 3.23  & 5.345 & 17.42 & 0     & 0     & 3     & 4    \\\\\n",
       "\tFiat 128 & 32.4  & 4     &  78.7 &  66   & 4.08  & 2.200 & 19.47 & 1     & 1     & 4     & 1    \\\\\n",
       "\tHonda Civic & 30.4  & 4     &  75.7 &  52   & 4.93  & 1.615 & 18.52 & 1     & 1     & 4     & 2    \\\\\n",
       "\tToyota Corolla & 33.9  & 4     &  71.1 &  65   & 4.22  & 1.835 & 19.90 & 1     & 1     & 4     & 1    \\\\\n",
       "\tToyota Corona & 21.5  & 4     & 120.1 &  97   & 3.70  & 2.465 & 20.01 & 1     & 0     & 3     & 1    \\\\\n",
       "\tDodge Challenger & 15.5  & 8     & 318.0 & 150   & 2.76  & 3.520 & 16.87 & 0     & 0     & 3     & 2    \\\\\n",
       "\tAMC Javelin & 15.2  & 8     & 304.0 & 150   & 3.15  & 3.435 & 17.30 & 0     & 0     & 3     & 2    \\\\\n",
       "\tCamaro Z28 & 13.3  & 8     & 350.0 & 245   & 3.73  & 3.840 & 15.41 & 0     & 0     & 3     & 4    \\\\\n",
       "\tPontiac Firebird & 19.2  & 8     & 400.0 & 175   & 3.08  & 3.845 & 17.05 & 0     & 0     & 3     & 2    \\\\\n",
       "\tFiat X1-9 & 27.3  & 4     &  79.0 &  66   & 4.08  & 1.935 & 18.90 & 1     & 1     & 4     & 1    \\\\\n",
       "\tPorsche 914-2 & 26.0  & 4     & 120.3 &  91   & 4.43  & 2.140 & 16.70 & 0     & 1     & 5     & 2    \\\\\n",
       "\tLotus Europa & 30.4  & 4     &  95.1 & 113   & 3.77  & 1.513 & 16.90 & 1     & 1     & 5     & 2    \\\\\n",
       "\tFord Pantera L & 15.8  & 8     & 351.0 & 264   & 4.22  & 3.170 & 14.50 & 0     & 1     & 5     & 4    \\\\\n",
       "\tFerrari Dino & 19.7  & 6     & 145.0 & 175   & 3.62  & 2.770 & 15.50 & 0     & 1     & 5     & 6    \\\\\n",
       "\tMaserati Bora & 15.0  & 8     & 301.0 & 335   & 3.54  & 3.570 & 14.60 & 0     & 1     & 5     & 8    \\\\\n",
       "\tVolvo 142E & 21.4  & 4     & 121.0 & 109   & 4.11  & 2.780 & 18.60 & 1     & 1     & 4     & 2    \\\\\n",
       "\\end{tabular}\n"
      ],
      "text/markdown": [
       "\n",
       "| <!--/--> | mpg | cyl | disp | hp | drat | wt | qsec | vs | am | gear | carb | \n",
       "|---|---|---|---|---|---|---|---|---|---|---|---|---|---|---|---|---|---|---|---|---|---|---|---|---|---|---|---|---|---|---|---|\n",
       "| Mazda RX4 | 21.0  | 6     | 160.0 | 110   | 3.90  | 2.620 | 16.46 | 0     | 1     | 4     | 4     | \n",
       "| Mazda RX4 Wag | 21.0  | 6     | 160.0 | 110   | 3.90  | 2.875 | 17.02 | 0     | 1     | 4     | 4     | \n",
       "| Datsun 710 | 22.8  | 4     | 108.0 |  93   | 3.85  | 2.320 | 18.61 | 1     | 1     | 4     | 1     | \n",
       "| Hornet 4 Drive | 21.4  | 6     | 258.0 | 110   | 3.08  | 3.215 | 19.44 | 1     | 0     | 3     | 1     | \n",
       "| Hornet Sportabout | 18.7  | 8     | 360.0 | 175   | 3.15  | 3.440 | 17.02 | 0     | 0     | 3     | 2     | \n",
       "| Valiant | 18.1  | 6     | 225.0 | 105   | 2.76  | 3.460 | 20.22 | 1     | 0     | 3     | 1     | \n",
       "| Duster 360 | 14.3  | 8     | 360.0 | 245   | 3.21  | 3.570 | 15.84 | 0     | 0     | 3     | 4     | \n",
       "| Merc 240D | 24.4  | 4     | 146.7 |  62   | 3.69  | 3.190 | 20.00 | 1     | 0     | 4     | 2     | \n",
       "| Merc 230 | 22.8  | 4     | 140.8 |  95   | 3.92  | 3.150 | 22.90 | 1     | 0     | 4     | 2     | \n",
       "| Merc 280 | 19.2  | 6     | 167.6 | 123   | 3.92  | 3.440 | 18.30 | 1     | 0     | 4     | 4     | \n",
       "| Merc 280C | 17.8  | 6     | 167.6 | 123   | 3.92  | 3.440 | 18.90 | 1     | 0     | 4     | 4     | \n",
       "| Merc 450SE | 16.4  | 8     | 275.8 | 180   | 3.07  | 4.070 | 17.40 | 0     | 0     | 3     | 3     | \n",
       "| Merc 450SL | 17.3  | 8     | 275.8 | 180   | 3.07  | 3.730 | 17.60 | 0     | 0     | 3     | 3     | \n",
       "| Merc 450SLC | 15.2  | 8     | 275.8 | 180   | 3.07  | 3.780 | 18.00 | 0     | 0     | 3     | 3     | \n",
       "| Cadillac Fleetwood | 10.4  | 8     | 472.0 | 205   | 2.93  | 5.250 | 17.98 | 0     | 0     | 3     | 4     | \n",
       "| Lincoln Continental | 10.4  | 8     | 460.0 | 215   | 3.00  | 5.424 | 17.82 | 0     | 0     | 3     | 4     | \n",
       "| Chrysler Imperial | 14.7  | 8     | 440.0 | 230   | 3.23  | 5.345 | 17.42 | 0     | 0     | 3     | 4     | \n",
       "| Fiat 128 | 32.4  | 4     |  78.7 |  66   | 4.08  | 2.200 | 19.47 | 1     | 1     | 4     | 1     | \n",
       "| Honda Civic | 30.4  | 4     |  75.7 |  52   | 4.93  | 1.615 | 18.52 | 1     | 1     | 4     | 2     | \n",
       "| Toyota Corolla | 33.9  | 4     |  71.1 |  65   | 4.22  | 1.835 | 19.90 | 1     | 1     | 4     | 1     | \n",
       "| Toyota Corona | 21.5  | 4     | 120.1 |  97   | 3.70  | 2.465 | 20.01 | 1     | 0     | 3     | 1     | \n",
       "| Dodge Challenger | 15.5  | 8     | 318.0 | 150   | 2.76  | 3.520 | 16.87 | 0     | 0     | 3     | 2     | \n",
       "| AMC Javelin | 15.2  | 8     | 304.0 | 150   | 3.15  | 3.435 | 17.30 | 0     | 0     | 3     | 2     | \n",
       "| Camaro Z28 | 13.3  | 8     | 350.0 | 245   | 3.73  | 3.840 | 15.41 | 0     | 0     | 3     | 4     | \n",
       "| Pontiac Firebird | 19.2  | 8     | 400.0 | 175   | 3.08  | 3.845 | 17.05 | 0     | 0     | 3     | 2     | \n",
       "| Fiat X1-9 | 27.3  | 4     |  79.0 |  66   | 4.08  | 1.935 | 18.90 | 1     | 1     | 4     | 1     | \n",
       "| Porsche 914-2 | 26.0  | 4     | 120.3 |  91   | 4.43  | 2.140 | 16.70 | 0     | 1     | 5     | 2     | \n",
       "| Lotus Europa | 30.4  | 4     |  95.1 | 113   | 3.77  | 1.513 | 16.90 | 1     | 1     | 5     | 2     | \n",
       "| Ford Pantera L | 15.8  | 8     | 351.0 | 264   | 4.22  | 3.170 | 14.50 | 0     | 1     | 5     | 4     | \n",
       "| Ferrari Dino | 19.7  | 6     | 145.0 | 175   | 3.62  | 2.770 | 15.50 | 0     | 1     | 5     | 6     | \n",
       "| Maserati Bora | 15.0  | 8     | 301.0 | 335   | 3.54  | 3.570 | 14.60 | 0     | 1     | 5     | 8     | \n",
       "| Volvo 142E | 21.4  | 4     | 121.0 | 109   | 4.11  | 2.780 | 18.60 | 1     | 1     | 4     | 2     | \n",
       "\n",
       "\n"
      ],
      "text/plain": [
       "                    mpg  cyl disp  hp  drat wt    qsec  vs am gear carb\n",
       "Mazda RX4           21.0 6   160.0 110 3.90 2.620 16.46 0  1  4    4   \n",
       "Mazda RX4 Wag       21.0 6   160.0 110 3.90 2.875 17.02 0  1  4    4   \n",
       "Datsun 710          22.8 4   108.0  93 3.85 2.320 18.61 1  1  4    1   \n",
       "Hornet 4 Drive      21.4 6   258.0 110 3.08 3.215 19.44 1  0  3    1   \n",
       "Hornet Sportabout   18.7 8   360.0 175 3.15 3.440 17.02 0  0  3    2   \n",
       "Valiant             18.1 6   225.0 105 2.76 3.460 20.22 1  0  3    1   \n",
       "Duster 360          14.3 8   360.0 245 3.21 3.570 15.84 0  0  3    4   \n",
       "Merc 240D           24.4 4   146.7  62 3.69 3.190 20.00 1  0  4    2   \n",
       "Merc 230            22.8 4   140.8  95 3.92 3.150 22.90 1  0  4    2   \n",
       "Merc 280            19.2 6   167.6 123 3.92 3.440 18.30 1  0  4    4   \n",
       "Merc 280C           17.8 6   167.6 123 3.92 3.440 18.90 1  0  4    4   \n",
       "Merc 450SE          16.4 8   275.8 180 3.07 4.070 17.40 0  0  3    3   \n",
       "Merc 450SL          17.3 8   275.8 180 3.07 3.730 17.60 0  0  3    3   \n",
       "Merc 450SLC         15.2 8   275.8 180 3.07 3.780 18.00 0  0  3    3   \n",
       "Cadillac Fleetwood  10.4 8   472.0 205 2.93 5.250 17.98 0  0  3    4   \n",
       "Lincoln Continental 10.4 8   460.0 215 3.00 5.424 17.82 0  0  3    4   \n",
       "Chrysler Imperial   14.7 8   440.0 230 3.23 5.345 17.42 0  0  3    4   \n",
       "Fiat 128            32.4 4    78.7  66 4.08 2.200 19.47 1  1  4    1   \n",
       "Honda Civic         30.4 4    75.7  52 4.93 1.615 18.52 1  1  4    2   \n",
       "Toyota Corolla      33.9 4    71.1  65 4.22 1.835 19.90 1  1  4    1   \n",
       "Toyota Corona       21.5 4   120.1  97 3.70 2.465 20.01 1  0  3    1   \n",
       "Dodge Challenger    15.5 8   318.0 150 2.76 3.520 16.87 0  0  3    2   \n",
       "AMC Javelin         15.2 8   304.0 150 3.15 3.435 17.30 0  0  3    2   \n",
       "Camaro Z28          13.3 8   350.0 245 3.73 3.840 15.41 0  0  3    4   \n",
       "Pontiac Firebird    19.2 8   400.0 175 3.08 3.845 17.05 0  0  3    2   \n",
       "Fiat X1-9           27.3 4    79.0  66 4.08 1.935 18.90 1  1  4    1   \n",
       "Porsche 914-2       26.0 4   120.3  91 4.43 2.140 16.70 0  1  5    2   \n",
       "Lotus Europa        30.4 4    95.1 113 3.77 1.513 16.90 1  1  5    2   \n",
       "Ford Pantera L      15.8 8   351.0 264 4.22 3.170 14.50 0  1  5    4   \n",
       "Ferrari Dino        19.7 6   145.0 175 3.62 2.770 15.50 0  1  5    6   \n",
       "Maserati Bora       15.0 8   301.0 335 3.54 3.570 14.60 0  1  5    8   \n",
       "Volvo 142E          21.4 4   121.0 109 4.11 2.780 18.60 1  1  4    2   "
      ]
     },
     "metadata": {},
     "output_type": "display_data"
    }
   ],
   "source": [
    "mtcars"
   ]
  },
  {
   "cell_type": "code",
   "execution_count": 13,
   "metadata": {
    "collapsed": true
   },
   "outputs": [],
   "source": [
    "?mtcars"
   ]
  },
  {
   "cell_type": "code",
   "execution_count": 14,
   "metadata": {},
   "outputs": [
    {
     "data": {
      "text/html": [
       "<table>\n",
       "<thead><tr><th></th><th scope=col>hp</th><th scope=col>drat</th><th scope=col>wt</th></tr></thead>\n",
       "<tbody>\n",
       "\t<tr><th scope=row>mpg</th><td>-0.7761684</td><td> 0.6811719</td><td>-0.8676594</td></tr>\n",
       "\t<tr><th scope=row>cyl</th><td> 0.8324475</td><td>-0.6999381</td><td> 0.7824958</td></tr>\n",
       "\t<tr><th scope=row>disp</th><td> 0.7909486</td><td>-0.7102139</td><td> 0.8879799</td></tr>\n",
       "</tbody>\n",
       "</table>\n"
      ],
      "text/latex": [
       "\\begin{tabular}{r|lll}\n",
       "  & hp & drat & wt\\\\\n",
       "\\hline\n",
       "\tmpg & -0.7761684 &  0.6811719 & -0.8676594\\\\\n",
       "\tcyl &  0.8324475 & -0.6999381 &  0.7824958\\\\\n",
       "\tdisp &  0.7909486 & -0.7102139 &  0.8879799\\\\\n",
       "\\end{tabular}\n"
      ],
      "text/markdown": [
       "\n",
       "| <!--/--> | hp | drat | wt | \n",
       "|---|---|---|\n",
       "| mpg | -0.7761684 |  0.6811719 | -0.8676594 | \n",
       "| cyl |  0.8324475 | -0.6999381 |  0.7824958 | \n",
       "| disp |  0.7909486 | -0.7102139 |  0.8879799 | \n",
       "\n",
       "\n"
      ],
      "text/plain": [
       "     hp         drat       wt        \n",
       "mpg  -0.7761684  0.6811719 -0.8676594\n",
       "cyl   0.8324475 -0.6999381  0.7824958\n",
       "disp  0.7909486 -0.7102139  0.8879799"
      ]
     },
     "metadata": {},
     "output_type": "display_data"
    }
   ],
   "source": [
    "x <- mtcars[1:3]\n",
    "y <- mtcars[4:6]\n",
    "cor(x, y)"
   ]
  },
  {
   "cell_type": "code",
   "execution_count": 15,
   "metadata": {},
   "outputs": [
    {
     "name": "stderr",
     "output_type": "stream",
     "text": [
      "Warning message:\n",
      "\"package 'corrplot' was built under R version 3.3.3\"corrplot 0.84 loaded\n"
     ]
    }
   ],
   "source": [
    "library(corrplot)"
   ]
  },
  {
   "cell_type": "code",
   "execution_count": 16,
   "metadata": {},
   "outputs": [
    {
     "data": {
      "text/html": [
       "<table>\n",
       "<thead><tr><th></th><th scope=col>mpg</th><th scope=col>cyl</th><th scope=col>disp</th><th scope=col>hp</th><th scope=col>drat</th><th scope=col>wt</th><th scope=col>qsec</th><th scope=col>vs</th><th scope=col>am</th><th scope=col>gear</th><th scope=col>carb</th></tr></thead>\n",
       "<tbody>\n",
       "\t<tr><th scope=row>mpg</th><td> 1.0000000 </td><td>-0.8521620 </td><td>-0.8475514 </td><td>-0.7761684 </td><td> 0.68117191</td><td>-0.8676594 </td><td> 0.41868403</td><td> 0.6640389 </td><td> 0.59983243</td><td> 0.4802848 </td><td>-0.55092507</td></tr>\n",
       "\t<tr><th scope=row>cyl</th><td>-0.8521620 </td><td> 1.0000000 </td><td> 0.9020329 </td><td> 0.8324475 </td><td>-0.69993811</td><td> 0.7824958 </td><td>-0.59124207</td><td>-0.8108118 </td><td>-0.52260705</td><td>-0.4926866 </td><td> 0.52698829</td></tr>\n",
       "\t<tr><th scope=row>disp</th><td>-0.8475514 </td><td> 0.9020329 </td><td> 1.0000000 </td><td> 0.7909486 </td><td>-0.71021393</td><td> 0.8879799 </td><td>-0.43369788</td><td>-0.7104159 </td><td>-0.59122704</td><td>-0.5555692 </td><td> 0.39497686</td></tr>\n",
       "\t<tr><th scope=row>hp</th><td>-0.7761684 </td><td> 0.8324475 </td><td> 0.7909486 </td><td> 1.0000000 </td><td>-0.44875912</td><td> 0.6587479 </td><td>-0.70822339</td><td>-0.7230967 </td><td>-0.24320426</td><td>-0.1257043 </td><td> 0.74981247</td></tr>\n",
       "\t<tr><th scope=row>drat</th><td> 0.6811719 </td><td>-0.6999381 </td><td>-0.7102139 </td><td>-0.4487591 </td><td> 1.00000000</td><td>-0.7124406 </td><td> 0.09120476</td><td> 0.4402785 </td><td> 0.71271113</td><td> 0.6996101 </td><td>-0.09078980</td></tr>\n",
       "\t<tr><th scope=row>wt</th><td>-0.8676594 </td><td> 0.7824958 </td><td> 0.8879799 </td><td> 0.6587479 </td><td>-0.71244065</td><td> 1.0000000 </td><td>-0.17471588</td><td>-0.5549157 </td><td>-0.69249526</td><td>-0.5832870 </td><td> 0.42760594</td></tr>\n",
       "\t<tr><th scope=row>qsec</th><td> 0.4186840 </td><td>-0.5912421 </td><td>-0.4336979 </td><td>-0.7082234 </td><td> 0.09120476</td><td>-0.1747159 </td><td> 1.00000000</td><td> 0.7445354 </td><td>-0.22986086</td><td>-0.2126822 </td><td>-0.65624923</td></tr>\n",
       "\t<tr><th scope=row>vs</th><td> 0.6640389 </td><td>-0.8108118 </td><td>-0.7104159 </td><td>-0.7230967 </td><td> 0.44027846</td><td>-0.5549157 </td><td> 0.74453544</td><td> 1.0000000 </td><td> 0.16834512</td><td> 0.2060233 </td><td>-0.56960714</td></tr>\n",
       "\t<tr><th scope=row>am</th><td> 0.5998324 </td><td>-0.5226070 </td><td>-0.5912270 </td><td>-0.2432043 </td><td> 0.71271113</td><td>-0.6924953 </td><td>-0.22986086</td><td> 0.1683451 </td><td> 1.00000000</td><td> 0.7940588 </td><td> 0.05753435</td></tr>\n",
       "\t<tr><th scope=row>gear</th><td> 0.4802848 </td><td>-0.4926866 </td><td>-0.5555692 </td><td>-0.1257043 </td><td> 0.69961013</td><td>-0.5832870 </td><td>-0.21268223</td><td> 0.2060233 </td><td> 0.79405876</td><td> 1.0000000 </td><td> 0.27407284</td></tr>\n",
       "\t<tr><th scope=row>carb</th><td>-0.5509251 </td><td> 0.5269883 </td><td> 0.3949769 </td><td> 0.7498125 </td><td>-0.09078980</td><td> 0.4276059 </td><td>-0.65624923</td><td>-0.5696071 </td><td> 0.05753435</td><td> 0.2740728 </td><td> 1.00000000</td></tr>\n",
       "</tbody>\n",
       "</table>\n"
      ],
      "text/latex": [
       "\\begin{tabular}{r|lllllllllll}\n",
       "  & mpg & cyl & disp & hp & drat & wt & qsec & vs & am & gear & carb\\\\\n",
       "\\hline\n",
       "\tmpg &  1.0000000  & -0.8521620  & -0.8475514  & -0.7761684  &  0.68117191 & -0.8676594  &  0.41868403 &  0.6640389  &  0.59983243 &  0.4802848  & -0.55092507\\\\\n",
       "\tcyl & -0.8521620  &  1.0000000  &  0.9020329  &  0.8324475  & -0.69993811 &  0.7824958  & -0.59124207 & -0.8108118  & -0.52260705 & -0.4926866  &  0.52698829\\\\\n",
       "\tdisp & -0.8475514  &  0.9020329  &  1.0000000  &  0.7909486  & -0.71021393 &  0.8879799  & -0.43369788 & -0.7104159  & -0.59122704 & -0.5555692  &  0.39497686\\\\\n",
       "\thp & -0.7761684  &  0.8324475  &  0.7909486  &  1.0000000  & -0.44875912 &  0.6587479  & -0.70822339 & -0.7230967  & -0.24320426 & -0.1257043  &  0.74981247\\\\\n",
       "\tdrat &  0.6811719  & -0.6999381  & -0.7102139  & -0.4487591  &  1.00000000 & -0.7124406  &  0.09120476 &  0.4402785  &  0.71271113 &  0.6996101  & -0.09078980\\\\\n",
       "\twt & -0.8676594  &  0.7824958  &  0.8879799  &  0.6587479  & -0.71244065 &  1.0000000  & -0.17471588 & -0.5549157  & -0.69249526 & -0.5832870  &  0.42760594\\\\\n",
       "\tqsec &  0.4186840  & -0.5912421  & -0.4336979  & -0.7082234  &  0.09120476 & -0.1747159  &  1.00000000 &  0.7445354  & -0.22986086 & -0.2126822  & -0.65624923\\\\\n",
       "\tvs &  0.6640389  & -0.8108118  & -0.7104159  & -0.7230967  &  0.44027846 & -0.5549157  &  0.74453544 &  1.0000000  &  0.16834512 &  0.2060233  & -0.56960714\\\\\n",
       "\tam &  0.5998324  & -0.5226070  & -0.5912270  & -0.2432043  &  0.71271113 & -0.6924953  & -0.22986086 &  0.1683451  &  1.00000000 &  0.7940588  &  0.05753435\\\\\n",
       "\tgear &  0.4802848  & -0.4926866  & -0.5555692  & -0.1257043  &  0.69961013 & -0.5832870  & -0.21268223 &  0.2060233  &  0.79405876 &  1.0000000  &  0.27407284\\\\\n",
       "\tcarb & -0.5509251  &  0.5269883  &  0.3949769  &  0.7498125  & -0.09078980 &  0.4276059  & -0.65624923 & -0.5696071  &  0.05753435 &  0.2740728  &  1.00000000\\\\\n",
       "\\end{tabular}\n"
      ],
      "text/markdown": [
       "\n",
       "| <!--/--> | mpg | cyl | disp | hp | drat | wt | qsec | vs | am | gear | carb | \n",
       "|---|---|---|---|---|---|---|---|---|---|---|\n",
       "| mpg |  1.0000000  | -0.8521620  | -0.8475514  | -0.7761684  |  0.68117191 | -0.8676594  |  0.41868403 |  0.6640389  |  0.59983243 |  0.4802848  | -0.55092507 | \n",
       "| cyl | -0.8521620  |  1.0000000  |  0.9020329  |  0.8324475  | -0.69993811 |  0.7824958  | -0.59124207 | -0.8108118  | -0.52260705 | -0.4926866  |  0.52698829 | \n",
       "| disp | -0.8475514  |  0.9020329  |  1.0000000  |  0.7909486  | -0.71021393 |  0.8879799  | -0.43369788 | -0.7104159  | -0.59122704 | -0.5555692  |  0.39497686 | \n",
       "| hp | -0.7761684  |  0.8324475  |  0.7909486  |  1.0000000  | -0.44875912 |  0.6587479  | -0.70822339 | -0.7230967  | -0.24320426 | -0.1257043  |  0.74981247 | \n",
       "| drat |  0.6811719  | -0.6999381  | -0.7102139  | -0.4487591  |  1.00000000 | -0.7124406  |  0.09120476 |  0.4402785  |  0.71271113 |  0.6996101  | -0.09078980 | \n",
       "| wt | -0.8676594  |  0.7824958  |  0.8879799  |  0.6587479  | -0.71244065 |  1.0000000  | -0.17471588 | -0.5549157  | -0.69249526 | -0.5832870  |  0.42760594 | \n",
       "| qsec |  0.4186840  | -0.5912421  | -0.4336979  | -0.7082234  |  0.09120476 | -0.1747159  |  1.00000000 |  0.7445354  | -0.22986086 | -0.2126822  | -0.65624923 | \n",
       "| vs |  0.6640389  | -0.8108118  | -0.7104159  | -0.7230967  |  0.44027846 | -0.5549157  |  0.74453544 |  1.0000000  |  0.16834512 |  0.2060233  | -0.56960714 | \n",
       "| am |  0.5998324  | -0.5226070  | -0.5912270  | -0.2432043  |  0.71271113 | -0.6924953  | -0.22986086 |  0.1683451  |  1.00000000 |  0.7940588  |  0.05753435 | \n",
       "| gear |  0.4802848  | -0.4926866  | -0.5555692  | -0.1257043  |  0.69961013 | -0.5832870  | -0.21268223 |  0.2060233  |  0.79405876 |  1.0000000  |  0.27407284 | \n",
       "| carb | -0.5509251  |  0.5269883  |  0.3949769  |  0.7498125  | -0.09078980 |  0.4276059  | -0.65624923 | -0.5696071  |  0.05753435 |  0.2740728  |  1.00000000 | \n",
       "\n",
       "\n"
      ],
      "text/plain": [
       "     mpg        cyl        disp       hp         drat        wt        \n",
       "mpg   1.0000000 -0.8521620 -0.8475514 -0.7761684  0.68117191 -0.8676594\n",
       "cyl  -0.8521620  1.0000000  0.9020329  0.8324475 -0.69993811  0.7824958\n",
       "disp -0.8475514  0.9020329  1.0000000  0.7909486 -0.71021393  0.8879799\n",
       "hp   -0.7761684  0.8324475  0.7909486  1.0000000 -0.44875912  0.6587479\n",
       "drat  0.6811719 -0.6999381 -0.7102139 -0.4487591  1.00000000 -0.7124406\n",
       "wt   -0.8676594  0.7824958  0.8879799  0.6587479 -0.71244065  1.0000000\n",
       "qsec  0.4186840 -0.5912421 -0.4336979 -0.7082234  0.09120476 -0.1747159\n",
       "vs    0.6640389 -0.8108118 -0.7104159 -0.7230967  0.44027846 -0.5549157\n",
       "am    0.5998324 -0.5226070 -0.5912270 -0.2432043  0.71271113 -0.6924953\n",
       "gear  0.4802848 -0.4926866 -0.5555692 -0.1257043  0.69961013 -0.5832870\n",
       "carb -0.5509251  0.5269883  0.3949769  0.7498125 -0.09078980  0.4276059\n",
       "     qsec        vs         am          gear       carb       \n",
       "mpg   0.41868403  0.6640389  0.59983243  0.4802848 -0.55092507\n",
       "cyl  -0.59124207 -0.8108118 -0.52260705 -0.4926866  0.52698829\n",
       "disp -0.43369788 -0.7104159 -0.59122704 -0.5555692  0.39497686\n",
       "hp   -0.70822339 -0.7230967 -0.24320426 -0.1257043  0.74981247\n",
       "drat  0.09120476  0.4402785  0.71271113  0.6996101 -0.09078980\n",
       "wt   -0.17471588 -0.5549157 -0.69249526 -0.5832870  0.42760594\n",
       "qsec  1.00000000  0.7445354 -0.22986086 -0.2126822 -0.65624923\n",
       "vs    0.74453544  1.0000000  0.16834512  0.2060233 -0.56960714\n",
       "am   -0.22986086  0.1683451  1.00000000  0.7940588  0.05753435\n",
       "gear -0.21268223  0.2060233  0.79405876  1.0000000  0.27407284\n",
       "carb -0.65624923 -0.5696071  0.05753435  0.2740728  1.00000000"
      ]
     },
     "metadata": {},
     "output_type": "display_data"
    },
    {
     "data": {
      "image/png": "[encoded data removed]",
      "text/plain": [
       "Plot with title \"\""
      ]
     },
     "metadata": {},
     "output_type": "display_data"
    }
   ],
   "source": [
    "M <- cor(mtcars)\n",
    "M\n",
    "corrplot(M, method = \"circle\")"
   ]
  },
  {
   "cell_type": "markdown",
   "metadata": {},
   "source": [
    "#### References: \n",
    "https://www.statmethods.net/stats/ttest.html  \n",
    "http://www.stat.columbia.edu/~martin/W2024/R2.pdf  \n",
    "http://www.sjsu.edu/faculty/gerstman/StatPrimer/t-table.pdf (T-statistic table)  \n",
    "https://www.statmethods.net/stats/correlations.html  \n",
    "https://cran.r-project.org/web/packages/corrplot/vignettes/corrplot-intro.html"
   ]
  }
 ],
 "metadata": {
  "kernelspec": {
   "display_name": "R 3.3",
   "language": "R",
   "name": "ir33"
  },
  "language_info": {
   "codemirror_mode": "r",
   "file_extension": ".r",
   "mimetype": "text/x-r-source",
   "name": "R",
   "pygments_lexer": "r",
   "version": "3.3.1"
  }
 },
 "nbformat": 4,
 "nbformat_minor": 2
}
